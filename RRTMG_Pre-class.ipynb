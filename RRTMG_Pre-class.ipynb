{
 "cells": [
  {
   "cell_type": "code",
   "execution_count": 7,
   "id": "bcd040cb-2b81-4015-9229-07e056ab1d44",
   "metadata": {},
   "outputs": [],
   "source": [
    "import numpy as np\n",
    "import matplotlib.pyplot as plt\n",
    "import climlab\n",
    "import xarray as xr\n",
    "import scipy.integrate as sp \n",
    "from numba.core.errors import NumbaDeprecationWarning, NumbaPendingDeprecationWarning\n",
    "import warnings\n",
    "\n",
    "warnings.simplefilter('ignore', category=NumbaDeprecationWarning)\n",
    "warnings.simplefilter('ignore', category=NumbaPendingDeprecationWarning)"
   ]
  },
  {
   "cell_type": "markdown",
   "id": "3f970450-571a-485c-b811-1f30ef927ad7",
   "metadata": {},
   "source": [
    "# Make Water Vapor Profile"
   ]
  },
  {
   "cell_type": "code",
   "execution_count": 4,
   "id": "5faf5d47-aca9-4278-928a-f340b8094bd8",
   "metadata": {},
   "outputs": [
    {
     "data": {
      "image/png": "[encoded data removed]",
      "text/plain": [
       "<Figure size 640x480 with 1 Axes>"
      ]
     },
     "metadata": {},
     "output_type": "display_data"
    }
   ],
   "source": [
    "#  Load the model output as we have done before\n",
    "cesm_data_path = \"http://thredds.atmos.albany.edu:8080/thredds/dodsC/CESMA/\"\n",
    "atm_control = xr.open_dataset(cesm_data_path + \"cpl_1850_f19/concatenated/cpl_1850_f19.cam.h0.nc\")\n",
    "#  The specific humidity is stored in the variable called Q in this dataset:\n",
    "atm_control.Q\n",
    "\n",
    "# Take global, annual average of the specific humidity\n",
    "weight_factor = atm_control.gw / atm_control.gw.mean(dim='lat')\n",
    "Qglobal = (atm_control.Q * weight_factor).mean(dim=('lat','lon','time'))\n",
    "# Take a look at what we just calculated ... it should be one-dimensional (vertical levels)\n",
    "Qglobal\n",
    "\n",
    "fig, ax = plt.subplots()\n",
    "#  Multiply Qglobal by 1000 to put in units of grams water vapor per kg of air\n",
    "ax.plot(Qglobal*1000., Qglobal.lev)\n",
    "ax.invert_yaxis()\n",
    "ax.set_ylabel('Pressure (hPa)')\n",
    "ax.set_xlabel('Specific humidity (g/kg)')\n",
    "ax.grid()"
   ]
  },
  {
   "cell_type": "markdown",
   "id": "6b5fb360-dc37-4e1d-8cdf-eb02cd30b0a4",
   "metadata": {},
   "source": [
    "# Create Single Model "
   ]
  },
  {
   "cell_type": "code",
   "execution_count": 5,
   "id": "ccf98a5d-3240-4768-9cf7-61ead597a64c",
   "metadata": {},
   "outputs": [
    {
     "data": {
      "text/plain": [
       "AttrDict({'Ts': Field([288.]), 'Tatm': Field([200.  , 203.12, 206.24, 209.36, 212.48, 215.6 , 218.72, 221.84,\n",
       "       224.96, 228.08, 231.2 , 234.32, 237.44, 240.56, 243.68, 246.8 ,\n",
       "       249.92, 253.04, 256.16, 259.28, 262.4 , 265.52, 268.64, 271.76,\n",
       "       274.88, 278.  ])})"
      ]
     },
     "execution_count": 5,
     "metadata": {},
     "output_type": "execute_result"
    }
   ],
   "source": [
    "import climlab\n",
    "#  Make a model on same vertical domain as the GCM\n",
    "mystate = climlab.column_state(lev=Qglobal.lev, water_depth=2.5)\n",
    "mystate"
   ]
  },
  {
   "cell_type": "code",
   "execution_count": 10,
   "id": "62e3ef72-5ab8-458c-9630-28921eacbd42",
   "metadata": {},
   "outputs": [
    {
     "data": {
      "text/plain": [
       "<climlab.radiation.rrtm.rrtmg.RRTMG at 0x2b31f443fed0>"
      ]
     },
     "execution_count": 10,
     "metadata": {},
     "output_type": "execute_result"
    }
   ],
   "source": [
    "radmodel = climlab.radiation.RRTMG(name='Radiation (all gases)',  # give our model a name!\n",
    "                              state=mystate,   # give our model an initial condition!\n",
    "                              specific_humidity=Qglobal.values,  # tell the model how much water vapor there is\n",
    "                              albedo = 0.25,  # this the SURFACE shortwave albedo\n",
    "                              timestep = climlab.constants.seconds_per_day,  # set the timestep to one day (measured in seconds)\n",
    "                             )\n",
    "radmodel"
   ]
  },
  {
   "cell_type": "markdown",
   "id": "f4e7a191-89fa-4da6-b173-073415f80f03",
   "metadata": {},
   "source": [
    "## Check Model State \n",
    "https://brian-rose.github.io/ClimateLaboratoryBook/courseware/radeq.html#the-observed-annual-global-mean-temperature-profile"
   ]
  },
  {
   "cell_type": "code",
   "execution_count": 11,
   "id": "8d1ac43f-eaa4-4f30-ba67-93f99547debe",
   "metadata": {},
   "outputs": [
    {
     "data": {
      "text/plain": [
       "{'CO2': 0.000348,\n",
       " 'CH4': 1.65e-06,\n",
       " 'N2O': 3.06e-07,\n",
       " 'O2': 0.21,\n",
       " 'CFC11': 0.0,\n",
       " 'CFC12': 0.0,\n",
       " 'CFC22': 0.0,\n",
       " 'CCL4': 0.0,\n",
       " 'O3': array([7.52507018e-06, 8.51545793e-06, 7.87041289e-06, 5.59601020e-06,\n",
       "        3.46128454e-06, 2.02820936e-06, 1.13263102e-06, 7.30182697e-07,\n",
       "        5.27326553e-07, 3.83940962e-07, 2.82227214e-07, 2.12188506e-07,\n",
       "        1.62569291e-07, 1.17991442e-07, 8.23582543e-08, 6.25738219e-08,\n",
       "        5.34457156e-08, 4.72688637e-08, 4.23614749e-08, 3.91392482e-08,\n",
       "        3.56025264e-08, 3.12026770e-08, 2.73165152e-08, 2.47190016e-08,\n",
       "        2.30518624e-08, 2.22005071e-08])}"
      ]
     },
     "execution_count": 11,
     "metadata": {},
     "output_type": "execute_result"
    }
   ],
   "source": [
    "#  Here's the state dictionary we already created:\n",
    "radmodel.state \n",
    "#  Here are the pressure levels in hPa\n",
    "radmodel.lev\n",
    "# Holds the volume mixing ratio of all the radiatively active gases in the column\n",
    "radmodel.absorber_vmr # Most are just a single number because they are assumed to be well mixed in the atmosphere."
   ]
  },
  {
   "cell_type": "code",
   "execution_count": 18,
   "id": "5e53fd76-2521-4a47-8b5e-d8c39e4da29f",
   "metadata": {},
   "outputs": [
    {
     "data": {
      "text/plain": [
       "AttrDict({'Ts': Field([288.]), 'Tatm': Field([200.  , 203.12, 206.24, 209.36, 212.48, 215.6 , 218.72, 221.84,\n",
       "       224.96, 228.08, 231.2 , 234.32, 237.44, 240.56, 243.68, 246.8 ,\n",
       "       249.92, 253.04, 256.16, 259.28, 262.4 , 265.52, 268.64, 271.76,\n",
       "       274.88, 278.  ])})"
      ]
     },
     "execution_count": 18,
     "metadata": {},
     "output_type": "execute_result"
    }
   ],
   "source": [
    "radmodel.state"
   ]
  },
  {
   "cell_type": "code",
   "execution_count": 15,
   "id": "9a708534-77df-4b52-ad1c-186372fd6a42",
   "metadata": {},
   "outputs": [
    {
     "data": {
      "text/plain": [
       "348.0"
      ]
     },
     "execution_count": 15,
     "metadata": {},
     "output_type": "execute_result"
    }
   ],
   "source": [
    "#  E.g. the CO2 content (a well-mixed gas) in parts per million\n",
    "radmodel.absorber_vmr['CO2'] * 1E6 "
   ]
  },
  {
   "cell_type": "markdown",
   "id": "7dbb63be-0086-411b-a4aa-c289be52d915",
   "metadata": {},
   "source": [
    "# Input Parameters for RRTMG \n",
    "https://climlab.readthedocs.io/en/latest/api/climlab.radiation.Radiation.html"
   ]
  },
  {
   "cell_type": "code",
   "execution_count": 12,
   "id": "5b05cf12-753d-4b8e-a5c7-90c98905b910",
   "metadata": {},
   "outputs": [
    {
     "name": "stdout",
     "output_type": "stream",
     "text": [
      "specific_humidity\n",
      "absorber_vmr\n",
      "cldfrac\n",
      "clwp\n",
      "ciwp\n",
      "r_liq\n",
      "r_ice\n",
      "emissivity\n",
      "S0\n",
      "insolation\n",
      "coszen\n",
      "eccentricity_factor\n",
      "aldif\n",
      "aldir\n",
      "asdif\n",
      "asdir\n",
      "icld\n",
      "irng\n",
      "idrv\n",
      "permuteseed_sw\n",
      "permuteseed_lw\n",
      "dyofyr\n",
      "inflgsw\n",
      "inflglw\n",
      "iceflgsw\n",
      "iceflglw\n",
      "liqflgsw\n",
      "liqflglw\n",
      "tauc_sw\n",
      "tauc_lw\n",
      "ssac_sw\n",
      "asmc_sw\n",
      "fsfc_sw\n",
      "tauaer_sw\n",
      "ssaaer_sw\n",
      "asmaer_sw\n",
      "ecaer_sw\n",
      "tauaer_lw\n",
      "isolvar\n",
      "indsolvar\n",
      "bndsolvar\n",
      "solcycfrac\n"
     ]
    }
   ],
   "source": [
    "for item in radmodel.input:\n",
    "    print(item)"
   ]
  },
  {
   "cell_type": "code",
   "execution_count": 17,
   "id": "398db36c-5a45-46e0-a4bc-8e538e19354d",
   "metadata": {},
   "outputs": [
    {
     "data": {
      "text/plain": [
       "0.0"
      ]
     },
     "execution_count": 17,
     "metadata": {},
     "output_type": "execute_result"
    }
   ],
   "source": [
    "radmodel.cldfrac  "
   ]
  },
  {
   "cell_type": "code",
   "execution_count": null,
   "id": "0e112385-a7c3-48c7-83a2-1ae97364a821",
   "metadata": {},
   "outputs": [],
   "source": []
  },
  {
   "cell_type": "code",
   "execution_count": null,
   "id": "14d7d65c-3702-4ee7-ac77-21e88f8c49d3",
   "metadata": {},
   "outputs": [],
   "source": []
  },
  {
   "cell_type": "code",
   "execution_count": null,
   "id": "03fcd073-f7fa-4745-b8e3-9859cbf8d4c8",
   "metadata": {},
   "outputs": [],
   "source": []
  },
  {
   "cell_type": "code",
   "execution_count": null,
   "id": "ddb8abf6-f947-4d7e-bdb0-cc2a4b4c7561",
   "metadata": {},
   "outputs": [],
   "source": []
  },
  {
   "cell_type": "code",
   "execution_count": null,
   "id": "34ddc471-9fa2-4145-993c-d8d86ff16e7e",
   "metadata": {},
   "outputs": [],
   "source": []
  },
  {
   "cell_type": "code",
   "execution_count": null,
   "id": "24aeb28c-d9f7-468f-ad8a-b0145248a824",
   "metadata": {},
   "outputs": [],
   "source": []
  }
 ],
 "metadata": {
  "kernelspec": {
   "display_name": "Python [conda env:rrtmg]",
   "language": "python",
   "name": "conda-env-rrtmg-py"
  },
  "language_info": {
   "codemirror_mode": {
    "name": "ipython",
    "version": 3
   },
   "file_extension": ".py",
   "mimetype": "text/x-python",
   "name": "python",
   "nbconvert_exporter": "python",
   "pygments_lexer": "ipython3",
   "version": "3.11.6"
  }
 },
 "nbformat": 4,
 "nbformat_minor": 5
}
