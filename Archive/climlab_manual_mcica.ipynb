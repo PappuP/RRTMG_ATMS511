{
 "cells": [
  {
   "cell_type": "markdown",
   "id": "75f95d3d-bde7-46bb-8e60-869516be47c2",
   "metadata": {},
   "source": [
    "# Make Water Vapor Profile"
   ]
  },
  {
   "cell_type": "code",
   "execution_count": 1,
   "id": "3c362515-eb03-4e13-a8c2-aa1b6ca49de5",
   "metadata": {},
   "outputs": [
    {
     "name": "stderr",
     "output_type": "stream",
     "text": [
      "/data/keeling/a/rytam2/miniconda3/envs/rrtmg/lib/python3.11/site-packages/climlab/convection/akmaev_adjustment.py:142: NumbaDeprecationWarning: The 'nopython' keyword argument was not supplied to the 'numba.jit' decorator. The implicit default value for this argument is currently False, but it will be changed to True in Numba 0.59.0. See https://numba.readthedocs.io/en/stable/reference/deprecation.html#deprecation-of-object-mode-fall-back-behaviour-when-using-jit for details.\n",
      "  Akmaev_adjustment = jit(signature_or_function=Akmaev_adjustment)\n"
     ]
    }
   ],
   "source": [
    "import os\n",
    "os.environ['NUMPY_EXPERIMENTAL_DTYPE_API'] = '1'\n",
    "import numpy as np\n",
    "import matplotlib.pyplot as plt\n",
    "import climlab\n",
    "import xarray as xr\n",
    "import scipy.integrate as sp \n",
    "import matplotlib.offsetbox as offsetbox\n",
    "from numba.core.errors import NumbaDeprecationWarning, NumbaPendingDeprecationWarning\n",
    "import warnings\n",
    "\n",
    "def make_textbox(axes, string):\n",
    "\n",
    "    box1 = offsetbox.TextArea(string,textprops=dict(fontsize=12,ha='left',fontweight='bold'))\n",
    "    anchored_box = offsetbox.AnchoredOffsetbox(loc=3,\n",
    "                                 child=box1, pad=0.2,\n",
    "                                 frameon=False,\n",
    "                                 bbox_to_anchor=(0,1),\n",
    "                                 bbox_transform=axes.transAxes,\n",
    "                                 borderpad=.2)\n",
    "    axes.add_artist(anchored_box)\n",
    "    \n",
    "    return\n",
    "\n",
    "warnings.simplefilter('ignore', category=NumbaDeprecationWarning)\n",
    "warnings.simplefilter('ignore', category=NumbaPendingDeprecationWarning)"
   ]
  },
  {
   "cell_type": "code",
   "execution_count": null,
   "id": "65ac7607-0273-4ada-82ae-96a79a542d4c",
   "metadata": {},
   "outputs": [],
   "source": [
    "#  Load the model output as we have done before\n",
    "cesm_data_path = \"http://thredds.atmos.albany.edu:8080/thredds/dodsC/CESMA/\"\n",
    "atm_control = xr.open_dataset(cesm_data_path + \"cpl_1850_f19/concatenated/cpl_1850_f19.cam.h0.nc\")\n",
    "#  The specific humidity is stored in the variable called Q in this dataset:\n",
    "atm_control.Q\n",
    "\n",
    "# Take global, annual average of the specific humidity\n",
    "weight_factor = atm_control.gw / atm_control.gw.mean(dim='lat')\n",
    "Qglobal = (atm_control.Q * weight_factor).mean(dim=('lat','lon','time'))\n",
    "# Take a look at what we just calculated ... it should be one-dimensional (vertical levels)\n",
    "Qglobal\n",
    "\n",
    "fig, ax = plt.subplots()\n",
    "#  Multiply Qglobal by 1000 to put in units of grams water vapor per kg of air\n",
    "ax.plot(Qglobal*1000., Qglobal.lev)\n",
    "ax.invert_yaxis()\n",
    "ax.set_ylabel('Pressure (hPa)')\n",
    "ax.set_xlabel('Specific humidity (g/kg)')\n",
    "ax.grid()"
   ]
  },
  {
   "cell_type": "code",
   "execution_count": null,
   "id": "e9e8b9b7-7036-4f85-a308-4105387c2e1b",
   "metadata": {},
   "outputs": [],
   "source": [
    "import climlab\n",
    "#  Make a model on same vertical domain as the GCM\n",
    "mystate = climlab.column_state(lev=Qglobal.lev, water_depth=2.5)\n",
    "mystate"
   ]
  },
  {
   "cell_type": "markdown",
   "id": "d0ada7ce-0833-4c29-b4c1-a0439e869ef9",
   "metadata": {},
   "source": [
    "## B. All-sky conditions \n",
    "with cloud included\n"
   ]
  },
  {
   "cell_type": "markdown",
   "id": "5076c072",
   "metadata": {},
   "source": [
    "cloud profile like https://github.com/climlab/climlab/blob/9584063ae4dca19f8fb3ffdb5aa399eaff18fdba/climlab/tests/test_rrtm.py#L65"
   ]
  },
  {
   "cell_type": "code",
   "execution_count": null,
   "id": "2d0eb6e9-3639-4abd-9d64-a442ce726dbb",
   "metadata": {},
   "outputs": [],
   "source": [
    "\n",
    "mystate\n",
    "lev = Qglobal.lev\n",
    "cldfrac = 0.5  # layer cloud fraction\n",
    "r_liq = 19.  # Cloud water drop effective radius (microns)\n",
    "clwp = 60.  # in-cloud liquid water path (g/m2)\n",
    "#  The cloud fraction is a Gaussian bump centered at level i\n",
    "i = 18\n",
    "cldfrac = np.array(cldfrac*(np.exp(-(lev-lev[i])**2/(2*i)**2))**0.1)\n",
    "mycloud = {'cldfrac': np.zeros_like(mystate.Tatm) + cldfrac,\n",
    "            'clwp': np.zeros_like(mystate.Tatm) + clwp,\n",
    "            'r_liq': np.zeros_like(mystate.Tatm) + r_liq,\n",
    "            }\n"
   ]
  },
  {
   "cell_type": "code",
   "execution_count": null,
   "id": "fc52a4ec",
   "metadata": {},
   "outputs": [],
   "source": [
    "mycloud"
   ]
  },
  {
   "cell_type": "code",
   "execution_count": null,
   "id": "12882e5c",
   "metadata": {},
   "outputs": [],
   "source": [
    "plt.plot(cldfrac,lev)\n",
    "plt.gca().invert_yaxis()"
   ]
  },
  {
   "cell_type": "markdown",
   "id": "e1a19388",
   "metadata": {},
   "source": [
    "Explicitly call the lower level models to do McICA, instead of using climlab top level wrapper"
   ]
  },
  {
   "cell_type": "code",
   "execution_count": null,
   "id": "12dd7874",
   "metadata": {},
   "outputs": [],
   "source": [
    "from climlab_rrtmg import rrtmg_lw, rrtmg_sw\n",
    "from __future__ import division, print_function, absolute_import\n",
    "import numpy as np\n",
    "import warnings\n",
    "from climlab import constants as const\n",
    "from climlab.radiation.radiation import _Radiation_SW\n",
    "from climlab.radiation.rrtm.utils import _prepare_general_arguments\n",
    "from climlab.radiation.rrtm.utils import _climlab_to_rrtm, _climlab_to_rrtm_sfc, _rrtm_to_climlab"
   ]
  },
  {
   "cell_type": "code",
   "execution_count": null,
   "id": "31c42ee5",
   "metadata": {},
   "outputs": [],
   "source": [
    "# modified compute code that include mcica.\n",
    "\n",
    "# short wave part\n",
    "def compute_sw(radmodel,nmcica=100):\n",
    "    # get input to rrtmg sw\n",
    "    (ncol, nlay, icld, iaer, permuteseed, irng,\n",
    "            play, plev, tlay, tlev, tsfc,\n",
    "            h2ovmr, o3vmr, co2vmr, ch4vmr, n2ovmr, o2vmr,\n",
    "            aldif, aldir, asdif, asdir, coszen, adjes, dyofyr, scon, isolvar,\n",
    "            indsolvar, bndsolvar, solcycfrac,\n",
    "            inflgsw, iceflgsw, liqflgsw,\n",
    "            cldfrac, ciwp, clwp, reic, relq, tauc, ssac, asmc, fsfc,\n",
    "            tauaer, ssaaer, asmaer, ecaer,) = radmodel._prepare_sw_arguments()\n",
    "\n",
    "    _swuflx, _swdflx, _swhr, _swuflxc, _swdflxc, _swhrc = [],[],[],[],[],[]\n",
    "    for i in range(nmcica):\n",
    "            (cldfmcl, ciwpmcl, clwpmcl, reicmcl, relqmcl, taucmcl,\n",
    "            ssacmcl, asmcmcl, fsfcmcl) = rrtmg_sw.climlab_mcica_subcol_sw(\n",
    "                            ncol, nlay, icld, permuteseed+1000*i, irng, play, # permuteseed should have large spacing\n",
    "                            cldfrac, ciwp, clwp, reic, relq, tauc, ssac, asmc, fsfc)\n",
    "\n",
    "            (swuflx, swdflx, swhr, swuflxc, swdflxc, swhrc) = \\\n",
    "                    rrtmg_sw.climlab_rrtmg_sw(ncol, nlay, icld, iaer,\n",
    "                        play, plev, tlay, tlev, tsfc,\n",
    "                        h2ovmr, o3vmr, co2vmr, ch4vmr, n2ovmr, o2vmr,\n",
    "                        asdir, asdif, aldir, aldif,\n",
    "                        coszen, adjes, dyofyr, scon, isolvar,\n",
    "                        inflgsw, iceflgsw, liqflgsw, cldfmcl,\n",
    "                        taucmcl, ssacmcl, asmcmcl, fsfcmcl,\n",
    "                        ciwpmcl, clwpmcl, reicmcl, relqmcl,\n",
    "                        tauaer, ssaaer, asmaer, ecaer,\n",
    "                        bndsolvar, indsolvar, solcycfrac)\n",
    "            _swuflx.append(swuflx) \n",
    "            _swdflx.append(swdflx)\n",
    "            _swhr.append(swhr)\n",
    "            _swuflxc.append(swuflxc)\n",
    "            _swdflxc.append(swdflxc)\n",
    "            _swhrc.append(swhrc)\n",
    "    swuflx = np.mean(np.array(_swuflx),axis=0)\n",
    "    swdflx = np.mean(np.array(_swdflx),axis=0)\n",
    "    swhr = np.mean(np.array(_swhr),axis=0)\n",
    "    swuflxc = np.mean(np.array(_swuflxc),axis=0)\n",
    "    swdflxc = np.mean(np.array(_swdflxc),axis=0)\n",
    "    swhrc = np.mean(np.array(_swhrc),axis=0)\n",
    "    \n",
    "    #  Output is all (ncol,nlay+1) or (ncol,nlay)\n",
    "    radmodel.SW_flux_up = _rrtm_to_climlab(swuflx) + 0.*radmodel.SW_flux_up\n",
    "    radmodel.SW_flux_down = _rrtm_to_climlab(swdflx) + 0.*radmodel.SW_flux_down\n",
    "    radmodel.SW_flux_up_clr = _rrtm_to_climlab(swuflxc) + 0.*radmodel.SW_flux_up_clr\n",
    "    radmodel.SW_flux_down_clr = _rrtm_to_climlab(swdflxc) + 0.*radmodel.SW_flux_down_clr\n",
    "    #  Compute quantities derived from fluxes, including ASR\n",
    "    radmodel._compute_SW_flux_diagnostics()\n",
    "    #  calculate heating rates from flux divergence\n",
    "    SWheating_Wm2 = np.array(-np.diff(radmodel.SW_flux_net, axis=-1)) + 0.*radmodel.Tatm\n",
    "    SWheating_clr_Wm2 = np.array(-np.diff(radmodel.SW_flux_net_clr, axis=-1)) + 0.*radmodel.Tatm\n",
    "    radmodel.heating_rate['Ts'] = np.array(radmodel.SW_flux_net[..., -1, np.newaxis]) + 0.*radmodel.Ts\n",
    "    radmodel.heating_rate['Tatm'] = SWheating_Wm2\n",
    "    #  Convert to K / day\n",
    "    Catm = radmodel.Tatm.domain.heat_capacity\n",
    "    radmodel.TdotSW = SWheating_Wm2 / Catm * const.seconds_per_day\n",
    "    radmodel.TdotSW_clr = SWheating_clr_Wm2 / Catm * const.seconds_per_day\n",
    "\n",
    "# longwave part\n",
    "def compute_lw(radmodel,nmcica=100):\n",
    "    (ncol, nlay, icld, ispec, permuteseed, irng, idrv, cp,\n",
    "                play, plev, tlay, tlev, tsfc,\n",
    "                h2ovmr, o3vmr, co2vmr, ch4vmr, n2ovmr, o2vmr,\n",
    "                cfc11vmr, cfc12vmr, cfc22vmr, ccl4vmr, emis,\n",
    "                inflglw, iceflglw, liqflglw,\n",
    "                cldfrac, ciwp, clwp, reic, relq, tauc, tauaer,) = radmodel._prepare_lw_arguments()\n",
    "\n",
    "    _uflx, _dflx, _uflxc, _dflxc = [],[],[],[]\n",
    "    _olr_sr,_hr,_hrc,_duflx_dt,_duflxc_dt = [],[],[],[],[]\n",
    "    for i in range(nmcica):\n",
    "        #  Call the Monte Carlo Independent Column Approximation (McICA, Pincus et al., JC, 2003)\n",
    "        (cldfmcl, ciwpmcl, clwpmcl, reicmcl, relqmcl, taucmcl) = \\\n",
    "            rrtmg_lw.climlab_mcica_subcol_lw(\n",
    "                        ncol, nlay, icld,\n",
    "                        permuteseed+1000*i, irng, play, # permuteseed should have large spacing\n",
    "                        cldfrac, ciwp, clwp, reic, relq, tauc)\n",
    "            #  Call the RRTMG_LW driver to compute radiative fluxes\n",
    "        (olr_sr, uflx, dflx, hr, uflxc, dflxc, hrc, duflx_dt, duflxc_dt) = \\\n",
    "            rrtmg_lw.climlab_rrtmg_lw(ncol, nlay, icld, ispec, idrv,\n",
    "                    play, plev, tlay, tlev, tsfc,\n",
    "                    h2ovmr, o3vmr, co2vmr, ch4vmr, n2ovmr, o2vmr,\n",
    "                    cfc11vmr, cfc12vmr, cfc22vmr, ccl4vmr, emis,\n",
    "                    inflglw, iceflglw, liqflglw, cldfmcl,\n",
    "                    taucmcl, ciwpmcl, clwpmcl, reicmcl, relqmcl,\n",
    "                    tauaer)\n",
    "        _uflx.append(uflx) \n",
    "        _dflx.append(dflx)\n",
    "        _uflxc.append(uflxc)\n",
    "        _dflxc.append(dflxc)\n",
    "        _olr_sr.append(olr_sr)\n",
    "        _hr.append(hr)\n",
    "        _hrc.append(hrc)\n",
    "        _duflx_dt.append(duflx_dt)\n",
    "        _duflxc_dt.append(duflxc_dt)\n",
    "    uflx = np.mean(np.array(_uflx),axis=0)\n",
    "    dflx = np.mean(np.array(_dflx),axis=0)\n",
    "    uflxc = np.mean(np.array(_uflxc),axis=0)\n",
    "    dflxc = np.mean(np.array(_dflxc),axis=0)\n",
    "    olr_sr = np.mean(np.array(_olr_sr),axis=0)\n",
    "    hr = np.mean(np.array(_hr),axis=0)\n",
    "    hrc = np.mean(np.array(_hrc),axis=0)\n",
    "    duflx_dt = np.mean(np.array(_duflx_dt),axis=0)\n",
    "    duflxc_dt = np.mean(np.array(_duflxc_dt),axis=0)\n",
    "    \n",
    "    #  Output is all (ncol,nlay+1) or (ncol,nlay)\n",
    "    radmodel.LW_flux_up = _rrtm_to_climlab(uflx) + 0.*radmodel.LW_flux_up\n",
    "    radmodel.LW_flux_down = _rrtm_to_climlab(dflx) + 0.*radmodel.LW_flux_down\n",
    "    radmodel.LW_flux_up_clr = _rrtm_to_climlab(uflxc) + 0.*radmodel.LW_flux_up_clr\n",
    "    radmodel.LW_flux_down_clr = _rrtm_to_climlab(dflxc) + 0.*radmodel.LW_flux_down_clr\n",
    "    #  Compute quantities derived from fluxes, including OLR\n",
    "    radmodel._compute_LW_flux_diagnostics()\n",
    "    # Except for spectrally-decomposed TOA flux, olr_sr (ncol, nbndlw)\n",
    "    if radmodel.return_spectral_olr:\n",
    "        #  Need to deal with broadcasting for two different cases: single column and latitude axis\n",
    "        # case single column: self.OLR is (1,),  self.OLR_spectral is (1, nbndlw),  olr_sr is (1,nbndlw)\n",
    "        #  squeeze olr_sr down to (nbndlw,)\n",
    "        # then use np.squeeze(olr_sr)[..., np.newaxis, :] to get back to (1, nbndlw)\n",
    "        # case latitude axis: self.OLR is (num_lat,1), self.OLR_spectral is (num_lat, 1, nbndlw), olr_sr is (num_lat, nbndlw)\n",
    "        #  np.squeeze(olr_sr) has no effect in this case\n",
    "        # add the newaxis because the domain has a size-1 depth axis ---> (num_lat, 1, nbndlw)\n",
    "        radmodel.OLR_spectral = np.squeeze(olr_sr)[...,np.newaxis,:] + 0.*radmodel.OLR_spectral\n",
    "    #  calculate heating rates from flux divergence\n",
    "    LWheating_Wm2 = np.array(np.diff(radmodel.LW_flux_net, axis=-1)) + 0.*radmodel.Tatm\n",
    "    LWheating_clr_Wm2 = np.array(np.diff(radmodel.LW_flux_net_clr, axis=-1)) + 0.*radmodel.Tatm\n",
    "    radmodel.heating_rate['Ts'] = np.array(-radmodel.LW_flux_net[..., -1, np.newaxis]) + 0.*radmodel.Ts\n",
    "    radmodel.heating_rate['Tatm'] = LWheating_Wm2\n",
    "    #  Convert to K / day\n",
    "    Catm = radmodel.Tatm.domain.heat_capacity\n",
    "    radmodel.TdotLW = LWheating_Wm2 / Catm * const.seconds_per_day\n",
    "    radmodel.TdotLW_clr = LWheating_clr_Wm2 / Catm * const.seconds_per_day"
   ]
  },
  {
   "cell_type": "code",
   "execution_count": null,
   "id": "03bcd5fb",
   "metadata": {},
   "outputs": [],
   "source": [
    "def step_model(radmodel_sw,radmodel_lw,nmcica=1):\n",
    "    # iterate model, get heating rate\n",
    "    compute_sw(radmodel_sw,nmcica)\n",
    "    dTs_sw = radmodel_sw.heating_rate['Ts']/radmodel_sw.Ts.domain.heat_capacity*86400\n",
    "    dTa_sw = radmodel_sw.heating_rate['Tatm']/radmodel_sw.Tatm.domain.heat_capacity*86400\n",
    "    compute_lw(radmodel_lw,nmcica)\n",
    "    dTs_lw = radmodel_lw.heating_rate['Ts']/radmodel_lw.Ts.domain.heat_capacity*86400\n",
    "    dTa_lw = radmodel_lw.heating_rate['Tatm']/radmodel_lw.Tatm.domain.heat_capacity*86400\n",
    "\n",
    "    # approximated T tendency as combined effect from SW and LW\n",
    "    dTs = (dTs_sw+dTs_lw)\n",
    "    dTa = (dTa_sw+dTa_lw)\n",
    "    \n",
    "    # models are modified in place.\n",
    "    radmodel_sw.set_state('Ts',radmodel_sw.state['Ts']+dTs)\n",
    "    radmodel_sw.set_state('Tatm',radmodel_sw.state['Tatm']+dTa)\n",
    "    radmodel_sw.tendencies['Ts'] = dTs/86400\n",
    "    radmodel_sw.tendencies['Tatm'] = dTa/86400\n",
    "    radmodel_sw.Ts = radmodel_sw.state['Ts']\n",
    "    radmodel_sw.Tatm = radmodel_sw.state['Tatm']\n",
    "\n",
    "    radmodel_lw.set_state('Ts',radmodel_lw.state['Ts']+dTs)\n",
    "    radmodel_lw.set_state('Tatm',radmodel_lw.state['Tatm']+dTa)\n",
    "    radmodel_lw.tendencies['Ts'] = dTs/86400\n",
    "    radmodel_lw.tendencies['Tatm'] = dTa/86400\n",
    "    radmodel_lw.Ts = radmodel_lw.state['Ts']\n",
    "    radmodel_lw.Tatm = radmodel_lw.state['Tatm']\n",
    "    "
   ]
  },
  {
   "cell_type": "code",
   "execution_count": null,
   "id": "359405c2",
   "metadata": {},
   "outputs": [],
   "source": [
    "# define Cloud overlap method, 0: Clear only, 1: Random, 2,  Maximum/random 3: Maximum\n",
    "ICLD = 1\n",
    "# 3 models, one SW and one LW to do manual McICA, one combined model to compare with.\n",
    "mystate = climlab.column_state(lev=Qglobal.lev, water_depth=2.5)\n",
    "\n",
    "radmodel_sw = climlab.radiation.RRTMG_SW(name='Radiation (all gases)',  # give our model a name!\n",
    "                              state=mystate,   # give our model an initial condition!\n",
    "                              specific_humidity=Qglobal.values,  # tell the model how much water vapor there is\n",
    "                              albedo = 0.25,  # this the SURFACE shortwave albedo\n",
    "                              timestep = climlab.constants.seconds_per_day,  # set the timestep to one day (measured in seconds)\n",
    "                              icld = ICLD,\n",
    "                              **mycloud\n",
    "                             )\n",
    "\n",
    "radmodel_lw = climlab.radiation.RRTMG_LW(name='Radiation (all gases)',  # give our model a name!\n",
    "                              state=mystate,   # give our model an initial condition!\n",
    "                              specific_humidity=Qglobal.values,  # tell the model how much water vapor there is\n",
    "                              albedo = 0.25,  # this the SURFACE shortwave albedo\n",
    "                              timestep = climlab.constants.seconds_per_day,  # set the timestep to one day (measured in seconds)\n",
    "                              icld = ICLD,\n",
    "                              **mycloud\n",
    "                             )\n",
    "\n",
    "radmodel_comb = climlab.radiation.RRTMG(name='Radiation (all gases)',  # give our model a name!\n",
    "                              state=mystate,   # give our model an initial condition!\n",
    "                              specific_humidity=Qglobal.values,  # tell the model how much water vapor there is\n",
    "                              albedo = 0.25,  # this the SURFACE shortwave albedo\n",
    "                              timestep = climlab.constants.seconds_per_day,  # set the timestep to one day (measured in seconds)\n",
    "                              icld = ICLD,\n",
    "                              **mycloud\n",
    "                             )\n",
    "                             \n",
    "p_lev = radmodel_comb.lev_bounds"
   ]
  },
  {
   "cell_type": "markdown",
   "id": "3d1fe143",
   "metadata": {},
   "source": [
    "Compare manual one sample mcica with default model (and observe that default climlab model is just the same as one-sample mcica)"
   ]
  },
  {
   "cell_type": "code",
   "execution_count": null,
   "id": "592d1deb",
   "metadata": {},
   "outputs": [],
   "source": [
    "count = 0\n",
    "nmcica = 1\n",
    "while True:\n",
    "    step_model(radmodel_sw,radmodel_lw,nmcica)\n",
    "    asr = radmodel_sw.diagnostics['ASR']\n",
    "    olr = radmodel_lw.diagnostics['OLR']\n",
    "    count += 1\n",
    "    if count > 1000 or np.abs(asr-olr)<0.01:\n",
    "        break\n",
    "count"
   ]
  },
  {
   "cell_type": "code",
   "execution_count": null,
   "id": "eaa0c997",
   "metadata": {},
   "outputs": [],
   "source": [
    "radmodel_comb.integrate_converge(1e-2)"
   ]
  },
  {
   "cell_type": "code",
   "execution_count": null,
   "id": "4e549f50",
   "metadata": {},
   "outputs": [],
   "source": [
    "fig,axes = plt.subplots(1,2)\n",
    "\n",
    "axes[0].plot(climlab.to_xarray(radmodel_sw.SW_flux_net),p_lev)\n",
    "axes[0].plot(climlab.to_xarray(radmodel_lw.LW_flux_net),p_lev)\n",
    "axes[0].set_xlim(75,275)\n",
    "axes[0].invert_yaxis()\n",
    "axes[0].\n",
    "\n",
    "axes[1].plot(climlab.to_xarray(radmodel_comb.SW_flux_net),p_lev)\n",
    "axes[1].plot(climlab.to_xarray(radmodel_comb.LW_flux_net),p_lev)\n",
    "axes[1].set_xlim(75,275)\n",
    "axes[1].invert_yaxis()"
   ]
  },
  {
   "cell_type": "markdown",
   "id": "80fddf3e",
   "metadata": {},
   "source": [
    "redefine models for manual McICA again"
   ]
  },
  {
   "cell_type": "code",
   "execution_count": null,
   "id": "f21fd330",
   "metadata": {},
   "outputs": [],
   "source": [
    "# define Cloud overlap method, 0: Clear only, 1: Random, 2,  Maximum/random 3: Maximum\n",
    "ICLD = 1\n",
    "# The same model initialized as above\n",
    "mystate = climlab.column_state(lev=Qglobal.lev, water_depth=2.5)\n",
    "radmodel_sw = climlab.radiation.RRTMG_SW(name='Radiation (all gases)',  # give our model a name!\n",
    "                              state=mystate,   # give our model an initial condition!\n",
    "                              specific_humidity=Qglobal.values,  # tell the model how much water vapor there is\n",
    "                              albedo = 0.25,  # this the SURFACE shortwave albedo\n",
    "                              timestep = climlab.constants.seconds_per_day,  # set the timestep to one day (measured in seconds)\n",
    "                              icld = ICLD,\n",
    "                              **mycloud\n",
    "                             )\n",
    "radmodel_lw = climlab.radiation.RRTMG_LW(name='Radiation (all gases)',  # give our model a name!\n",
    "                              state=mystate,   # give our model an initial condition!\n",
    "                              specific_humidity=Qglobal.values,  # tell the model how much water vapor there is\n",
    "                              albedo = 0.25,  # this the SURFACE shortwave albedo\n",
    "                              timestep = climlab.constants.seconds_per_day,  # set the timestep to one day (measured in seconds)\n",
    "                              icld = ICLD,\n",
    "                              **mycloud\n",
    "                             )"
   ]
  },
  {
   "cell_type": "code",
   "execution_count": null,
   "id": "668d58c8",
   "metadata": {},
   "outputs": [],
   "source": [
    "# Use 20 mcica samples per iteration for manual iteration and compare with one sample default model again.\n",
    "count = 0\n",
    "nmcica = 20\n",
    "while True:\n",
    "    dTs,dTa = step_model(radmodel_sw,radmodel_lw,nmcica)\n",
    "    asr = radmodel_sw.diagnostics['ASR']\n",
    "    olr = radmodel_lw.diagnostics['OLR']\n",
    "    count += 1\n",
    "    if count > 1000 or np.abs(asr-olr)<0.01:\n",
    "        break\n",
    "count"
   ]
  },
  {
   "cell_type": "code",
   "execution_count": null,
   "id": "00c65226",
   "metadata": {},
   "outputs": [],
   "source": [
    "fig,axes = plt.subplots(1,2)\n",
    "\n",
    "axes[0].plot(climlab.to_xarray(radmodel_sw.SW_flux_net),p_lev)\n",
    "axes[0].plot(climlab.to_xarray(radmodel_lw.LW_flux_net),p_lev)\n",
    "axes[0].set_xlim(75,275)\n",
    "axes[0].invert_yaxis()\n",
    "axes[0].grid()\n",
    "\n",
    "axes[1].plot(climlab.to_xarray(radmodel_comb.SW_flux_net),p_lev)\n",
    "axes[1].plot(climlab.to_xarray(radmodel_comb.LW_flux_net),p_lev)\n",
    "axes[1].set_xlim(75,275)\n",
    "axes[1].invert_yaxis()\n",
    "axes[0].grid()"
   ]
  },
  {
   "cell_type": "markdown",
   "id": "e5e25e30",
   "metadata": {},
   "source": [
    "Note the difference is the most noticable near bottom levels"
   ]
  },
  {
   "cell_type": "markdown",
   "id": "d81e9df1",
   "metadata": {},
   "source": [
    "Try different cloud overlap methods or nmcica?"
   ]
  },
  {
   "cell_type": "code",
   "execution_count": null,
   "id": "7d61489f-8e76-4e3a-a01d-16cef3679eaf",
   "metadata": {},
   "outputs": [],
   "source": []
  },
  {
   "cell_type": "code",
   "execution_count": null,
   "id": "22a9f11e-4613-4f4c-b98c-65aafb832ce1",
   "metadata": {},
   "outputs": [],
   "source": []
  }
 ],
 "metadata": {
  "kernelspec": {
   "display_name": "Python [conda env:rrtmg]",
   "language": "python",
   "name": "conda-env-rrtmg-py"
  },
  "language_info": {
   "codemirror_mode": {
    "name": "ipython",
    "version": 3
   },
   "file_extension": ".py",
   "mimetype": "text/x-python",
   "name": "python",
   "nbconvert_exporter": "python",
   "pygments_lexer": "ipython3",
   "version": "3.11.6"
  }
 },
 "nbformat": 4,
 "nbformat_minor": 5
}
