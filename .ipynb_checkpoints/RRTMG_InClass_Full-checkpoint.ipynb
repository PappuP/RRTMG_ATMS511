{
 "cells": [
  {
   "cell_type": "markdown",
   "id": "af729d70-5101-4478-8890-0ba7bbcf76a2",
   "metadata": {},
   "source": [
    "# RRTMG on Keeling \n",
    "\n",
    "In today's class, we will use this notebook to work on Atmospheric Science application problems with the RRTMG model. We'll break the class down into three main parts: \n",
    "1. Calculate RRTMG under Clear Sky Conditions\n",
    "2. How clouds are represented in RRTMG \n",
    "3. Calculate RRTMG under All Sky Conditions \n",
    "\n",
    "By the end of the class, you will know: \n",
    "1. What are the minimum input you need to load into the RRTMG model;\n",
    "2. What the output of the RRTMG model would look like and the calculations you can do with the output"
   ]
  },
  {
   "cell_type": "markdown",
   "id": "75f95d3d-bde7-46bb-8e60-869516be47c2",
   "metadata": {},
   "source": [
    "# Part I: Calculating Radiative Fluxes and Heating Rates in **Clear Sky Conditions**\n",
    "\n",
    "RRTMG is one of the packages installed in a global climate model, where the domain (surface area) they cover include the entire Earth. For the first part in class, we'll look at how the heating rates and radiative fluxes would look like if we loaded different input into the model. \n",
    "\n",
    "To do so, we will be looking at **simulated humidity profiles** from the Community Earth System Model (CESM) version and **observed data** collected from [radiosonde data by the University of Wyoming](https://weather.uwyo.edu/upperair/sounding.html). We'll look at San Deigo, CA, for its proximity to the eastern Pacific stratocumulus deck. \n",
    "\n",
    "## Working with CESM Simulations and Observational Data in the RRTMG Model \n",
    "\n",
    "Climate models describes the various earth system processes by comprising of multiple components, including the atmospehric component, land, ocean, sea ice etc.. In the case of CESM model, the atmosphere is ran in the Community Atmosphere Model (CAM), where the latest version is version 6, and commonly known as CAM6 in CESM version 2. This component is also where the RRTMG model resides in. However, the output we'll be looking at is ran on CESM-1 CAM5, which is an older version, but the differences between the climate models are outside the scope of this tutorial, and the RRTMG model has no difference between the two CESM versions ([Danabasoglu et al., 2020](https://agupubs.onlinelibrary.wiley.com/doi/full/10.1029/2019MS001916)).\n",
    "\n",
    "To get the RRTMG model running in Climlab, we will need to let the model know what the initial conditions of the atmosphere we want to simulate be like - mainly the **temperature** and **water vapor profiles**. \n",
    "1. **Temperature:** Climlab has [`climlab.column_state()`](https://climlab.readthedocs.io/en/latest/api/climlab.domain.initial.html), which is a convenient routine that set the temperature profile by getting the arguments of the pressure levels (i.e. height axis). For CESM1 models, they are ran on a vertical profile of 26 atmospheric layers in all locations. \n",
    "2. **Water Vapor**: We will be loading the humidity profile from a coupled* aquaplanet** model run on CESM-1 CAM5. \n",
    "\n",
    "#### <u>On the side: More about the dataset that we are looking at</u>\n",
    "**1. What is coupled?**\n",
    "   \n",
    "All Earth processes interact with each other: for example, winds in the atmosphere may advect sea surface temperatures, which is an example of the atmosphere communicating with the ocean. With the multiple components in a climate model, the components communicate with each other through a coupler, a software that controls the execution and time evolution of systems (tehcnical details can be found [here](https://www.cesm.ucar.edu/models/cpl)). When all components are allowed to run based on their model dynamics, and then communicate with each other before moving on to the next step in time, this is what we called as fully coupled. However, it is not required that all components to be active in a single run. For example, the ocean and sea ice components can be turned off, and the atmosphere takes known data that is loaded by the user (e.g. observational records of sea surface temperatures like measurements from [Argo floats](https://argo.ucsd.edu/about/status/)) to conduct calculations and return output. This practice is commonly called as prescribed SSTs, and the simulations are referred as Atmosphere-only model runs. It is beneficial as it is computationally cheaper than a fully coupled model, and the field has a standard experiment known as the Atmospheric Model Intercomparison project (AMIP) so as to investigate model diagnosis, validation and data acess etc.. \n",
    "\n",
    "In the dataset that we are looking at, we are looking at a fully coupled simulation. "
   ]
  },
  {
   "cell_type": "markdown",
   "id": "6cc9a363-6b33-4966-b68a-f64ca190e34e",
   "metadata": {},
   "source": [
    "#### Step 0. Import Packages"
   ]
  },
  {
   "cell_type": "code",
   "execution_count": null,
   "id": "3c362515-eb03-4e13-a8c2-aa1b6ca49de5",
   "metadata": {},
   "outputs": [],
   "source": [
    "import numpy as np\n",
    "import matplotlib.pyplot as plt\n",
    "import climlab\n",
    "import xarray as xr\n",
    "import scipy.integrate as sp \n",
    "#import matplotlib.offsetbox as offsetbox\n",
    "from numba.core.errors import NumbaDeprecationWarning, NumbaPendingDeprecationWarning\n",
    "import warnings\n",
    "from climlab_rrtmg import rrtmg_lw, rrtmg_sw\n",
    "from __future__ import division, print_function, absolute_import\n",
    "#from climlab import constants as const\n",
    "#from climlab.radiation.radiation import _Radiation_SW\n",
    "#from climlab.radiation.rrtm.utils import _prepare_general_arguments\n",
    "#from climlab.radiation.rrtm.utils import _climlab_to_rrtm, _climlab_to_rrtm_sfc, _rrtm_to_climlab\n",
    "from inclass_func import *\n",
    "\n",
    "\n",
    "warnings.simplefilter('ignore', category=NumbaDeprecationWarning)\n",
    "warnings.simplefilter('ignore', category=NumbaPendingDeprecationWarning)"
   ]
  },
  {
   "cell_type": "markdown",
   "id": "74327961-4966-4480-a707-a40689872fe9",
   "metadata": {},
   "source": [
    "#### Step 1. Loading Humidity Profile\n",
    "\n",
    "What we will load here are both the simulated data from the fully coupled CESM model run, and the observed radiosonde data collected at a weather station in San Diego (Nov 10, 00Z). "
   ]
  },
  {
   "cell_type": "code",
   "execution_count": null,
   "id": "11903a1a-65d0-4b72-94aa-0766062c4825",
   "metadata": {},
   "outputs": [],
   "source": [
    "cesm_Q = xr.open_dataarray('Data/cesm_Q.nc') # model data \n",
    "q_obs = xr.open_dataset('Data/sd_q_sortedorder.nc') # obs data\n",
    "\n",
    "cesm_Q.lev #EDIT THIS to check out the two different sets of data "
   ]
  },
  {
   "cell_type": "code",
   "execution_count": null,
   "id": "c77c18b5-75dd-4112-ab71-73a6ef7b6c14",
   "metadata": {},
   "outputs": [],
   "source": [
    "plot_humidity(cesm_Q*1000., cesm_Q.lev, q_obs.q, q_obs.lev)"
   ]
  },
  {
   "cell_type": "markdown",
   "id": "a84f666f-9222-48ce-8f6a-61acb226aecc",
   "metadata": {},
   "source": [
    "#### Step 2: Calculate the respective radiative fluxes and heating rates"
   ]
  },
  {
   "cell_type": "code",
   "execution_count": null,
   "id": "2fd95882-47b6-43f5-927a-96fa639b8b49",
   "metadata": {},
   "outputs": [],
   "source": [
    "# Now we check out what the vertical profile of the net radiative fluxes and heating rate under this water vapor profile would look like \n",
    "# First we do the calculations\n",
    "rad_LW_cesm_clr, rad_SW_cesm_clr = model_setup(cesm_Q.values, cesm_Q.lev)\n",
    "\n",
    "# and now we PLOT\n",
    "plotting_sec1(rad_LW_cesm_clr, rad_SW_cesm_clr,'Simulated','Clear-sky','San Diego')"
   ]
  },
  {
   "cell_type": "code",
   "execution_count": null,
   "id": "d19bb484-1a0d-465e-8970-2a5b59e5b846",
   "metadata": {},
   "outputs": [],
   "source": [
    "rad_sd_cesm_LW_clr, rad_sd_cesm_SW_clr = model_setup(q_obs.q.values/1000, q_obs.lev.values)\n",
    "plotting_sec1(rad_sd_cesm_LW_clr, rad_sd_cesm_SW_clr,'Observed','Clear-sky','San Diego')"
   ]
  },
  {
   "cell_type": "markdown",
   "id": "047aaae1-b047-4700-8a9b-0cca32feb232",
   "metadata": {},
   "source": [
    "# Part II: Calculating Heating Rates and Radiative Fluxes in **All Sky Conditions**\n",
    "\n",
    "Check out the same location with a cloud added. "
   ]
  },
  {
   "cell_type": "markdown",
   "id": "01a90a1c-7da0-4083-aaef-b98e09550933",
   "metadata": {},
   "source": [
    "### A. Case I: 100% Cloudy Sky Condition"
   ]
  },
  {
   "cell_type": "markdown",
   "id": "5ea6e0e8-c526-4580-bb44-db04ce17c1a4",
   "metadata": {},
   "source": [
    "#### Simulated Humidity Profile"
   ]
  },
  {
   "cell_type": "code",
   "execution_count": null,
   "id": "d33554aa-cc93-4ff6-a355-5b10c0602f5b",
   "metadata": {},
   "outputs": [],
   "source": [
    "mystate_sim = climlab.column_state(lev=cesm_Q.lev)\n",
    "lev = cesm_Q.lev\n",
    "cldfrac = 1.0 # layer cloud fraction\n",
    "r_liq = 10.  # Cloud water drop effective radius (microns)\n",
    "clwp = 40  # in-cloud liquid water path (g/m2)\n",
    "\n",
    "cldfrac_sim_full = (cldfrac*np.exp(-(lev-lev[-3])**2/(2*25.)**2)).values  #Add cloud at local maximum of observed humidity profile \n",
    "mycloud_sim_full = {'cldfrac': cldfrac_sim_full,\n",
    "            'clwp': np.zeros_like(mystate_sim.Tatm) + clwp,\n",
    "            'r_liq': np.zeros_like(mystate_sim.Tatm) + r_liq,\n",
    "            }\n",
    "cf_plot(cldfrac_sim_full,lev,'Simulated ('+str(cldfrac)+')')"
   ]
  },
  {
   "cell_type": "code",
   "execution_count": null,
   "id": "ca48b069-c98d-4ace-a2fb-5f3571d4aa9b",
   "metadata": {},
   "outputs": [],
   "source": [
    "ICLD = 1\n",
    "nmcica = 100\n",
    "radmodel_sw_sim_locmax,radmodel_lw_sim_locmax,p_lev,dz = initmodels(ICLD,mystate_sim,cesm_Q,mycloud_sim_full)\n",
    "step_model(radmodel_sw_sim_locmax,radmodel_lw_sim_locmax,nmcica)\n",
    "plotting_sec1(radmodel_lw_sim_locmax, radmodel_sw_sim_locmax,'Simulated','Total All-Sky','SD')"
   ]
  },
  {
   "cell_type": "markdown",
   "id": "b0c9268f-5ec8-4eb9-846a-535e0a5a4f90",
   "metadata": {},
   "source": [
    "#### Observed Humidity Profile"
   ]
  },
  {
   "cell_type": "code",
   "execution_count": null,
   "id": "c13742b2-03b2-4d0a-865b-fcbf697da12b",
   "metadata": {},
   "outputs": [],
   "source": [
    "mystate_obs = climlab.column_state(lev=q_obs.lev)\n",
    "lev = q_obs.lev\n",
    "cldfrac = 1.0# layer cloud fraction\n",
    "r_liq = 10.  # Cloud water drop effective radius (microns)\n",
    "cldfrac_obs_full = (cldfrac*np.exp(-(lev-lev[-10])**2/(2*25.)**2)).values\n",
    "mycloud_obs_full = {'cldfrac': cldfrac_obs_full,\n",
    "            'clwp': np.zeros_like(mystate_obs.Tatm) + clwp,\n",
    "            'r_liq': np.zeros_like(mystate_obs.Tatm) + r_liq,\n",
    "            }\n",
    "\n",
    "cf_plot(cldfrac_obs_full,lev,'Observed ('+str(cldfrac)+')')"
   ]
  },
  {
   "cell_type": "code",
   "execution_count": null,
   "id": "fb2bb3c6-fad9-46a1-a893-5a7e1eea9172",
   "metadata": {},
   "outputs": [],
   "source": [
    "ICLD = 1\n",
    "nmcica = 1\n",
    "radmodel_sw_obs_locmax,radmodel_lw_obs_locmax,p_lev,dz = initmodels(ICLD,mystate_obs,q_obs.q/1000,mycloud_obs_full)\n",
    "step_model(radmodel_sw_obs_locmax,radmodel_lw_obs_locmax,nmcica)\n",
    "plotting_sec1(radmodel_lw_obs_locmax, radmodel_sw_obs_locmax,'Observed','Total All-Sky','SD')"
   ]
  },
  {
   "cell_type": "markdown",
   "id": "102acd01-5be4-4186-bc8b-6e89d6a58efd",
   "metadata": {},
   "source": [
    "### B. Case II: Partly Cloudy Sky "
   ]
  },
  {
   "cell_type": "markdown",
   "id": "379a2a24-276b-4f3d-b994-23e230f20825",
   "metadata": {},
   "source": [
    "#### Simulated Humidity Profile"
   ]
  },
  {
   "cell_type": "code",
   "execution_count": null,
   "id": "75696f05-e240-49d2-9248-7600896c21ac",
   "metadata": {},
   "outputs": [],
   "source": [
    "# Simulated San Diego \n",
    "\n",
    "mystate_obs = climlab.column_state(lev=q_obs.lev)\n",
    "lev = q_obs.lev\n",
    "cldfrac = 0.5# layer cloud fraction\n",
    "r_liq = 10.  # Cloud water drop effective radius (microns)\n",
    "\n",
    "mystate_sim = climlab.column_state(lev=cesm_Q.lev)\n",
    "lev = cesm_Q.lev\n",
    "cldfrac_sim_partial = (cldfrac*np.exp(-(lev-lev[-3])**2/(2*25.)**2)).values\n",
    "mycloud_sim_partial = {'cldfrac': cldfrac_sim_partial,\n",
    "            'clwp': np.zeros_like(mystate_sim.Tatm) + clwp,\n",
    "            'r_liq': np.zeros_like(mystate_sim.Tatm) + r_liq,\n",
    "            }\n",
    "\n",
    "# Plot column distribution of cloud fraction \n",
    "cf_plot(cldfrac_sim_partial, lev,'Simulated ('+str(cldfrac)+')')"
   ]
  },
  {
   "cell_type": "code",
   "execution_count": null,
   "id": "828fa3bf-e9e8-41f4-ad07-af5e926ad88d",
   "metadata": {},
   "outputs": [],
   "source": [
    "ICLD = 1\n",
    "nmcica = 100\n",
    "radmodel_sw_sim_locmax,radmodel_lw_sim_locmax,p_lev,dz = initmodels(ICLD,mystate_sim,cesm_Q,mycloud_sim_partial)\n",
    "step_model(radmodel_sw_sim_locmax,radmodel_lw_sim_locmax,nmcica)\n",
    "plotting_sec1(radmodel_lw_sim_locmax, radmodel_sw_sim_locmax,'Simulated','Partial All-Sky','SD')"
   ]
  },
  {
   "cell_type": "markdown",
   "id": "8bf0af78-7dbf-4f11-8936-7655d0d744ba",
   "metadata": {},
   "source": [
    "#### Observed Humidity Profile"
   ]
  },
  {
   "cell_type": "code",
   "execution_count": null,
   "id": "15a4366d-da3f-4f99-abd2-40d58ee51818",
   "metadata": {},
   "outputs": [],
   "source": [
    "# Observed San Diego \n",
    "mystate_obs = climlab.column_state(lev=q_obs.lev)\n",
    "lev = q_obs.lev\n",
    "cldfrac = 0.5 # layer cloud fraction\n",
    "r_liq = 10.  # Cloud water drop effective radius (microns)\n",
    "clwp = 40  # in-cloud liquid water path (g/m2)\n",
    "\n",
    "cldfrac_obs_partial = (cldfrac*np.exp(-(lev-lev[-10])**2/(2*25.)**2)).values\n",
    "mycloud_obs_partial = {'cldfrac': cldfrac_obs_partial,\n",
    "            'clwp': np.zeros_like(mystate_obs.Tatm) + clwp,\n",
    "            'r_liq': np.zeros_like(mystate_obs.Tatm) + r_liq,\n",
    "            }\n",
    "\n",
    "\n",
    "cf_plot(cldfrac_obs_partial,lev,'Observed ('+str(cldfrac)+')')"
   ]
  },
  {
   "cell_type": "code",
   "execution_count": null,
   "id": "11b7bba8-a2be-4d4e-ae94-accc495b4ffd",
   "metadata": {},
   "outputs": [],
   "source": [
    "ICLD = 1\n",
    "nmcica = 100\n",
    "radmodel_sw_obs_locmax,radmodel_lw_obs_locmax,p_lev,dz = initmodels(ICLD,mystate_obs,q_obs.q/1000,mycloud_obs_partial)\n",
    "step_model(radmodel_sw_obs_locmax,radmodel_lw_obs_locmax,nmcica)\n",
    "plotting_sec1(radmodel_lw_obs_locmax, radmodel_sw_obs_locmax,'Observed','Partial All-Sky','SD')"
   ]
  },
  {
   "cell_type": "markdown",
   "id": "b1fdbc38-558d-43c0-9b73-435ad01ecd2a",
   "metadata": {},
   "source": [
    "# Part III: Cloud Properties Representations "
   ]
  },
  {
   "cell_type": "markdown",
   "id": "5748e640-4652-4efd-a37e-25f974e1b0df",
   "metadata": {},
   "source": [
    "### Model Schemes on Cloud Representation: Cloud Overlap\n",
    "\n",
    "Remember the infinite combination of how cloud can be organized within a grid cell? McICA comes into play! \n",
    "\n",
    "#### Investigate the different Cloud Overlap Schemes (1-4 and case 0, i.e. clear sky)\n",
    "\n",
    "We'll continue with the partially cloudy condition defined as follow, but change the distribution of the cloud to a idealized Gaussian bump centered at level i. "
   ]
  },
  {
   "cell_type": "code",
   "execution_count": null,
   "id": "39fd3598-01b2-4e8f-aa40-2c58fb1d3d77",
   "metadata": {},
   "outputs": [],
   "source": [
    "mystate = climlab.column_state(lev=cesm_Q.lev)\n",
    "lev = cesm_Q.lev\n",
    "cldfrac = 0.5 # layer cloud fraction\n",
    "r_liq = 10.  # Cloud water drop effective radius (microns)\n",
    "clwp = 40  # in-cloud liquid water path (g/m2)\n",
    "#  The cloud fraction is a Gaussian bump centered at level i\n",
    "i = 18\n",
    "cldfrac_mcica = np.array(cldfrac*(np.exp(-(lev-lev[i])**2/(2*i)**2)))**0.03 * cldfrac\n",
    "mycloud = {'cldfrac': np.zeros_like(mystate.Tatm) + cldfrac_mcica,\n",
    "            'clwp': np.zeros_like(mystate.Tatm) + clwp,\n",
    "            'r_liq': np.zeros_like(mystate.Tatm) + r_liq,\n",
    "            }\n",
    "\n",
    "cf_plot(cldfrac_mcica,lev,'Ideazlied')"
   ]
  },
  {
   "cell_type": "markdown",
   "id": "e10a2d40-e36e-4d65-84b3-67fd15df7a9b",
   "metadata": {},
   "source": [
    "#### A. Clear-sky"
   ]
  },
  {
   "cell_type": "code",
   "execution_count": null,
   "id": "74e931d2-e7be-4382-820f-6b1889f81a2b",
   "metadata": {},
   "outputs": [],
   "source": [
    "# experiment with different overlap method and nmicia\n",
    "icld = 0 # no cloud\n",
    "nmcica = 1 # no need to do multiple mcica since no cloud\n",
    "\n",
    "radmodel_sw,radmodel_lw,p_lev,dz = initmodels(icld,mystate,cesm_Q,mycloud)\n",
    "step_model(radmodel_sw,radmodel_lw,nmcica)\n",
    "\n",
    "#plot_net_fluxes(radmodel_sw,radmodel_lw)\n",
    "#plot_all_fluxes(radmodel_sw,radmodel_lw)\n",
    "plotting_sec3(radmodel_lw, radmodel_sw)"
   ]
  },
  {
   "cell_type": "markdown",
   "id": "7734cc5e-ca77-46e2-8a43-36930c1ae3b0",
   "metadata": {},
   "source": [
    "#### B. Random"
   ]
  },
  {
   "cell_type": "code",
   "execution_count": null,
   "id": "2d9b0f20-3c38-4166-976a-ffd4854c64d9",
   "metadata": {},
   "outputs": [],
   "source": [
    "# experiment with different overlap method and nmicia\n",
    "icld = 1\n",
    "nmcica = 100\n",
    "\n",
    "radmodel_sw,radmodel_lw,p_lev,dz = initmodels(icld,mystate,cesm_Q,mycloud)\n",
    "step_model(radmodel_sw,radmodel_lw,nmcica)\n",
    "\n",
    "#plot_net_fluxes(radmodel_sw,radmodel_lw)\n",
    "#plot_all_fluxes(radmodel_sw,radmodel_lw)\n",
    "plotting_sec3(radmodel_lw, radmodel_sw)"
   ]
  },
  {
   "cell_type": "markdown",
   "id": "bb79ee60-fda0-4209-85d2-2b742b2da985",
   "metadata": {},
   "source": [
    "#### C. Random-maximum"
   ]
  },
  {
   "cell_type": "code",
   "execution_count": null,
   "id": "31037a17-9ee7-4d0b-82a9-141ec7c3776f",
   "metadata": {},
   "outputs": [],
   "source": [
    "icld = 2\n",
    "nmcica = 100\n",
    "\n",
    "radmodel_sw,radmodel_lw,p_lev,dz = initmodels(icld,mystate,cesm_Q,mycloud)\n",
    "step_model(radmodel_sw,radmodel_lw,nmcica)\n",
    "\n",
    "#plot_net_fluxes(radmodel_sw,radmodel_lw)\n",
    "#plot_all_fluxes(radmodel_sw,radmodel_lw)\n",
    "plotting_sec3(radmodel_lw, radmodel_sw)"
   ]
  },
  {
   "cell_type": "markdown",
   "id": "d5a6bea6-41a4-40e6-84c6-c8ecbfac873e",
   "metadata": {},
   "source": [
    "#### D. Maximum"
   ]
  },
  {
   "cell_type": "code",
   "execution_count": null,
   "id": "65eed22f-b01d-4156-adc7-411f66f1b007",
   "metadata": {},
   "outputs": [],
   "source": [
    "icld = 3\n",
    "nmcica = 100\n",
    "\n",
    "radmodel_sw,radmodel_lw,p_lev,dz = initmodels(icld,mystate,cesm_Q,mycloud)\n",
    "step_model(radmodel_sw,radmodel_lw,nmcica)\n",
    "\n",
    "#plot_net_fluxes(radmodel_sw,radmodel_lw)\n",
    "#plot_all_fluxes(radmodel_sw,radmodel_lw)\n",
    "plotting_sec3(radmodel_lw, radmodel_sw)"
   ]
  },
  {
   "cell_type": "markdown",
   "id": "5fab2901-73ff-4cda-8188-734a2a5789df",
   "metadata": {},
   "source": [
    "#### E. Exponential"
   ]
  },
  {
   "cell_type": "code",
   "execution_count": null,
   "id": "1e9c0bb1-fb71-47b3-bb9f-732ba886c7ab",
   "metadata": {},
   "outputs": [],
   "source": [
    "icld = 4\n",
    "nmcica = 100\n",
    "\n",
    "radmodel_sw,radmodel_lw,p_lev,dz = initmodels(icld,mystate,cesm_Q,mycloud)\n",
    "step_model(radmodel_sw,radmodel_lw,nmcica)\n",
    "\n",
    "#plot_net_fluxes(radmodel_sw,radmodel_lw)\n",
    "#plot_all_fluxes(radmodel_sw,radmodel_lw)\n",
    "plotting_sec3(radmodel_lw, radmodel_sw)"
   ]
  }
 ],
 "metadata": {
  "kernelspec": {
   "display_name": "Python [conda env:rrtmg]",
   "language": "python",
   "name": "conda-env-rrtmg-py"
  },
  "language_info": {
   "codemirror_mode": {
    "name": "ipython",
    "version": 3
   },
   "file_extension": ".py",
   "mimetype": "text/x-python",
   "name": "python",
   "nbconvert_exporter": "python",
   "pygments_lexer": "ipython3",
   "version": "3.11.6"
  }
 },
 "nbformat": 4,
 "nbformat_minor": 5
}
